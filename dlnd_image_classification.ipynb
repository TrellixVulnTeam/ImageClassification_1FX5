{
 "cells": [
  {
   "cell_type": "markdown",
   "metadata": {
    "collapsed": true
   },
   "source": [
    "# 图像分类\n",
    "\n",
    "在此项目中，你将对 [CIFAR-10 数据集](https://www.cs.toronto.edu/~kriz/cifar.html) 中的图片进行分类。该数据集包含飞机、猫狗和其他物体。你需要预处理这些图片，然后用所有样本训练一个卷积神经网络。图片需要标准化（normalized），标签需要采用 one-hot 编码。你需要应用所学的知识构建卷积的、最大池化（max pooling）、丢弃（dropout）和完全连接（fully connected）的层。最后，你需要在样本图片上看到神经网络的预测结果。\n",
    "\n",
    "\n",
    "## 获取数据\n",
    "\n",
    "请运行以下单元，以下载 [CIFAR-10 数据集（Python版）](https://www.cs.toronto.edu/~kriz/cifar-10-python.tar.gz)。\n"
   ]
  },
  {
   "cell_type": "code",
   "execution_count": 2,
   "metadata": {
    "collapsed": false
   },
   "outputs": [
    {
     "name": "stdout",
     "output_type": "stream",
     "text": [
      "All files found!\n"
     ]
    }
   ],
   "source": [
    "\"\"\"\n",
    "DON'T MODIFY ANYTHING IN THIS CELL THAT IS BELOW THIS LINE\n",
    "\"\"\"\n",
    "from urllib.request import urlretrieve\n",
    "from os.path import isfile, isdir\n",
    "from tqdm import tqdm\n",
    "import problem_unittests as tests\n",
    "import tarfile\n",
    "\n",
    "cifar10_dataset_folder_path = 'cifar-10-batches-py'\n",
    "\n",
    "# Use Floyd's cifar-10 dataset if present\n",
    "floyd_cifar10_location = '/input/cifar-10/python.tar.gz'\n",
    "if isfile(floyd_cifar10_location):\n",
    "    tar_gz_path = floyd_cifar10_location\n",
    "else:\n",
    "    tar_gz_path = 'cifar-10-python.tar.gz'\n",
    "\n",
    "class DLProgress(tqdm):\n",
    "    last_block = 0\n",
    "\n",
    "    def hook(self, block_num=1, block_size=1, total_size=None):\n",
    "        self.total = total_size\n",
    "        self.update((block_num - self.last_block) * block_size)\n",
    "        self.last_block = block_num\n",
    "\n",
    "if not isfile(tar_gz_path):\n",
    "    with DLProgress(unit='B', unit_scale=True, miniters=1, desc='CIFAR-10 Dataset') as pbar:\n",
    "        urlretrieve(\n",
    "            'https://www.cs.toronto.edu/~kriz/cifar-10-python.tar.gz',\n",
    "            tar_gz_path,\n",
    "            pbar.hook)\n",
    "\n",
    "if not isdir(cifar10_dataset_folder_path):\n",
    "    with tarfile.open(tar_gz_path) as tar:\n",
    "        tar.extractall()\n",
    "        tar.close()\n",
    "\n",
    "\n",
    "tests.test_folder_path(cifar10_dataset_folder_path)"
   ]
  },
  {
   "cell_type": "markdown",
   "metadata": {},
   "source": [
    "## 探索数据\n",
    "\n",
    "该数据集分成了几部分／批次（batches），以免你的机器在计算时内存不足。CIFAR-10 数据集包含 5 个部分，名称分别为 `data_batch_1`、`data_batch_2`，以此类推。每个部分都包含以下某个类别的标签和图片：\n",
    "\n",
    "* 飞机\n",
    "* 汽车\n",
    "* 鸟类\n",
    "* 猫\n",
    "* 鹿\n",
    "* 狗\n",
    "* 青蛙\n",
    "* 马\n",
    "* 船只\n",
    "* 卡车\n",
    "\n",
    "了解数据集也是对数据进行预测的必经步骤。你可以通过更改 `batch_id` 和 `sample_id` 探索下面的代码单元。`batch_id` 是数据集一个部分的 ID（1 到 5）。`sample_id` 是该部分中图片和标签对（label pair）的 ID。\n",
    "\n",
    "问问你自己：“可能的标签有哪些？”、“图片数据的值范围是多少？”、“标签是按顺序排列，还是随机排列的？”。思考类似的问题，有助于你预处理数据，并使预测结果更准确。\n"
   ]
  },
  {
   "cell_type": "code",
   "execution_count": 6,
   "metadata": {
    "collapsed": false
   },
   "outputs": [
    {
     "name": "stdout",
     "output_type": "stream",
     "text": [
      "\n",
      "Stats of batch 1:\n",
      "Samples: 10000\n",
      "Label Counts: {0: 1005, 1: 974, 2: 1032, 3: 1016, 4: 999, 5: 937, 6: 1030, 7: 1001, 8: 1025, 9: 981}\n",
      "First 20 Labels: [6, 9, 9, 4, 1, 1, 2, 7, 8, 3, 4, 7, 7, 2, 9, 9, 9, 3, 2, 6]\n",
      "\n",
      "Example of Image 5:\n",
      "Image - Min Value: 0 Max Value: 252\n",
      "Image - Shape: (32, 32, 3)\n",
      "Label - Label Id: 1 Name: automobile\n"
     ]
    },
    {
     "data": {
      "image/png": "[encoded data removed]",
      "text/plain": [
       "<matplotlib.figure.Figure at 0xf984cc0>"
      ]
     },
     "metadata": {
      "image/png": {
       "height": 250,
       "width": 253
      }
     },
     "output_type": "display_data"
    }
   ],
   "source": [
    "%matplotlib inline\n",
    "%config InlineBackend.figure_format = 'retina'\n",
    "\n",
    "import helper\n",
    "import numpy as np\n",
    "\n",
    "# Explore the dataset\n",
    "batch_id = 1\n",
    "sample_id = 5\n",
    "helper.display_stats(cifar10_dataset_folder_path, batch_id, sample_id)"
   ]
  },
  {
   "cell_type": "markdown",
   "metadata": {},
   "source": [
    "## 实现预处理函数\n",
    "\n",
    "### 标准化\n",
    "\n",
    "在下面的单元中，实现 `normalize` 函数，传入图片数据 `x`，并返回标准化 Numpy 数组。值应该在 0 到 1 的范围内（含 0 和 1）。返回对象应该和 `x` 的形状一样。\n"
   ]
  },
  {
   "cell_type": "code",
   "execution_count": 7,
   "metadata": {
    "collapsed": false
   },
   "outputs": [
    {
     "name": "stdout",
     "output_type": "stream",
     "text": [
      "Tests Passed\n"
     ]
    }
   ],
   "source": [
    "def normalize(x):\n",
    "    \"\"\"\n",
    "    Normalize a list of sample image data in the range of 0 to 1\n",
    "    : x: List of image data.  The image shape is (32, 32, 3)\n",
    "    : return: Numpy array of normalize data\n",
    "    \"\"\"\n",
    "    max = np.max(x)\n",
    "    min = np.min(x)\n",
    "    return (x - min) / (max - min)\n",
    "\n",
    "\n",
    "\"\"\"\n",
    "DON'T MODIFY ANYTHING IN THIS CELL THAT IS BELOW THIS LINE\n",
    "\"\"\"\n",
    "tests.test_normalize(normalize)"
   ]
  },
  {
   "cell_type": "markdown",
   "metadata": {},
   "source": [
    "### One-hot 编码\n",
    "\n",
    "和之前的代码单元一样，你将为预处理实现一个函数。这次，你将实现 `one_hot_encode` 函数。输入，也就是 `x`，是一个标签列表。实现该函数，以返回为 one_hot 编码的 Numpy 数组的标签列表。标签的可能值为 0 到 9。每次调用 `one_hot_encode` 时，对于每个值，one_hot 编码函数应该返回相同的编码。确保将编码映射保存到该函数外面。\n",
    "\n",
    "提示：不要重复发明轮子。\n"
   ]
  },
  {
   "cell_type": "code",
   "execution_count": 8,
   "metadata": {
    "collapsed": false
   },
   "outputs": [
    {
     "name": "stdout",
     "output_type": "stream",
     "text": [
      "Tests Passed\n"
     ]
    }
   ],
   "source": [
    "def one_hot_encode(x):\n",
    "    \"\"\"\n",
    "    One hot encode a list of sample labels. Return a one-hot encoded vector for each label.\n",
    "    : x: List of sample Labels\n",
    "    : return: Numpy array of one-hot encoded labels\n",
    "    \"\"\"\n",
    "    nx = np.max(x) + 1\n",
    "    return np.eye(nx)[x]\n",
    "\n",
    "\n",
    "\"\"\"\n",
    "DON'T MODIFY ANYTHING IN THIS CELL THAT IS BELOW THIS LINE\n",
    "\"\"\"\n",
    "tests.test_one_hot_encode(one_hot_encode)"
   ]
  },
  {
   "cell_type": "markdown",
   "metadata": {},
   "source": [
    "### 随机化数据\n",
    "\n",
    "之前探索数据时，你已经了解到，样本的顺序是随机的。再随机化一次也不会有什么关系，但是对于这个数据集没有必要。\n"
   ]
  },
  {
   "cell_type": "markdown",
   "metadata": {},
   "source": [
    "## 预处理所有数据并保存\n",
    "\n",
    "运行下方的代码单元，将预处理所有 CIFAR-10 数据，并保存到文件中。下面的代码还使用了 10% 的训练数据，用来验证。\n"
   ]
  },
  {
   "cell_type": "code",
   "execution_count": 9,
   "metadata": {
    "collapsed": false
   },
   "outputs": [],
   "source": [
    "\"\"\"\n",
    "DON'T MODIFY ANYTHING IN THIS CELL\n",
    "\"\"\"\n",
    "# Preprocess Training, Validation, and Testing Data\n",
    "helper.preprocess_and_save_data(cifar10_dataset_folder_path, normalize, one_hot_encode)"
   ]
  },
  {
   "cell_type": "markdown",
   "metadata": {},
   "source": [
    "# 检查点\n",
    "\n",
    "这是你的第一个检查点。如果你什么时候决定再回到该记事本，或需要重新启动该记事本，你可以从这里开始。预处理的数据已保存到本地。\n"
   ]
  },
  {
   "cell_type": "code",
   "execution_count": 10,
   "metadata": {
    "collapsed": true
   },
   "outputs": [],
   "source": [
    "\"\"\"\n",
    "DON'T MODIFY ANYTHING IN THIS CELL\n",
    "\"\"\"\n",
    "import pickle\n",
    "import problem_unittests as tests\n",
    "import helper\n",
    "\n",
    "# Load the Preprocessed Validation data\n",
    "valid_features, valid_labels = pickle.load(open('preprocess_validation.p', mode='rb'))"
   ]
  },
  {
   "cell_type": "markdown",
   "metadata": {},
   "source": [
    "## 构建网络\n",
    "\n",
    "对于该神经网络，你需要将每层都构建为一个函数。你看到的大部分代码都位于函数外面。要更全面地测试你的代码，我们需要你将每层放入一个函数中。这样使我们能够提供更好的反馈，并使用我们的统一测试检测简单的错误，然后再提交项目。\n",
    "\n",
    ">**注意**：如果你觉得每周很难抽出足够的时间学习这门课程，我们为此项目提供了一个小捷径。对于接下来的几个问题，你可以使用 [TensorFlow Layers](https://www.tensorflow.org/api_docs/python/tf/layers) 或 [TensorFlow Layers (contrib)](https://www.tensorflow.org/api_guides/python/contrib.layers) 程序包中的类来构建每个层级，但是“卷积和最大池化层级”部分的层级除外。TF Layers 和 Keras 及 TFLearn 层级类似，因此很容易学会。\n",
    "\n",
    ">但是，如果你想充分利用这门课程，请尝试自己解决所有问题，不使用 TF Layers 程序包中的任何类。你依然可以使用其他程序包中的类，这些类和你在 TF Layers 中的类名称是一样的！例如，你可以使用 TF Neural Network 版本的 `conv2d` 类 [tf.nn.conv2d](https://www.tensorflow.org/api_docs/python/tf/nn/conv2d)，而不是 TF Layers 版本的 `conv2d` 类 [tf.layers.conv2d](https://www.tensorflow.org/api_docs/python/tf/layers/conv2d)。\n",
    "\n",
    "我们开始吧！\n",
    "\n",
    "\n",
    "### 输入\n",
    "\n",
    "神经网络需要读取图片数据、one-hot 编码标签和丢弃保留概率（dropout keep probability）。请实现以下函数：\n",
    "\n",
    "* 实现 `neural_net_image_input`\n",
    " * 返回 [TF Placeholder](https://www.tensorflow.org/api_docs/python/tf/placeholder)\n",
    " * 使用 `image_shape` 设置形状，部分大小设为 `None`\n",
    " * 使用 [TF Placeholder](https://www.tensorflow.org/api_docs/python/tf/placeholder) 中的 TensorFlow `name` 参数对 TensorFlow 占位符 \"x\" 命名\n",
    "* 实现 `neural_net_label_input`\n",
    " * 返回 [TF Placeholder](https://www.tensorflow.org/api_docs/python/tf/placeholder)\n",
    " * 使用 `n_classes` 设置形状，部分大小设为 `None`\n",
    " * 使用 [TF Placeholder](https://www.tensorflow.org/api_docs/python/tf/placeholder) 中的 TensorFlow `name` 参数对 TensorFlow 占位符 \"y\" 命名\n",
    "* 实现 `neural_net_keep_prob_input`\n",
    " * 返回 [TF Placeholder](https://www.tensorflow.org/api_docs/python/tf/placeholder)，用于丢弃保留概率\n",
    " * 使用 [TF Placeholder](https://www.tensorflow.org/api_docs/python/tf/placeholder) 中的 TensorFlow `name` 参数对 TensorFlow 占位符 \"keep_prob\" 命名\n",
    "\n",
    "这些名称将在项目结束时，用于加载保存的模型。\n",
    "\n",
    "注意：TensorFlow 中的 `None` 表示形状可以是动态大小。"
   ]
  },
  {
   "cell_type": "code",
   "execution_count": 11,
   "metadata": {
    "collapsed": false
   },
   "outputs": [
    {
     "name": "stdout",
     "output_type": "stream",
     "text": [
      "Image Input Tests Passed.\n",
      "Label Input Tests Passed.\n",
      "Keep Prob Tests Passed.\n"
     ]
    }
   ],
   "source": [
    "import tensorflow as tf\n",
    "\n",
    "def neural_net_image_input(image_shape):\n",
    "\n",
    "    return tf.placeholder(\n",
    "        tf.float32,\n",
    "        [None, image_shape[0], image_shape[1], 3],\n",
    "        name='x'\n",
    "    )\n",
    "\n",
    "\n",
    "\n",
    "def neural_net_label_input(n_classes):\n",
    "    return tf.placeholder(\n",
    "        tf.float32,\n",
    "        [None, n_classes],\n",
    "        name='y'\n",
    "    )\n",
    "\n",
    "\n",
    "def neural_net_keep_prob_input():\n",
    "   \n",
    "    return tf.placeholder(tf.float32, name='keep_prob')\n",
    "\n",
    "\n",
    "\"\"\"\n",
    "DON'T MODIFY ANYTHING IN THIS CELL THAT IS BELOW THIS LINE\n",
    "\"\"\"\n",
    "tf.reset_default_graph()\n",
    "tests.test_nn_image_inputs(neural_net_image_input)\n",
    "tests.test_nn_label_inputs(neural_net_label_input)\n",
    "tests.test_nn_keep_prob_inputs(neural_net_keep_prob_input)"
   ]
  },
  {
   "cell_type": "markdown",
   "metadata": {},
   "source": [
    "### 卷积和最大池化层\n",
    "\n",
    "卷积层级适合处理图片。对于此代码单元，你应该实现函数 `conv2d_maxpool` 以便应用卷积然后进行最大池化：\n",
    "\n",
    "* 使用 `conv_ksize`、`conv_num_outputs` 和 `x_tensor` 的形状创建权重（weight）和偏置（bias）。\n",
    "* 使用权重和 `conv_strides` 对 `x_tensor` 应用卷积。\n",
    " * 建议使用我们建议的间距（padding），当然也可以使用任何其他间距。\n",
    "* 添加偏置\n",
    "* 向卷积中添加非线性激活（nonlinear activation）\n",
    "* 使用 `pool_ksize` 和 `pool_strides` 应用最大池化\n",
    " * 建议使用我们建议的间距（padding），当然也可以使用任何其他间距。\n",
    "\n",
    "**注意**：对于**此层**，**请勿使用** [TensorFlow Layers](https://www.tensorflow.org/api_docs/python/tf/layers) 或 [TensorFlow Layers (contrib)](https://www.tensorflow.org/api_guides/python/contrib.layers)，但是仍然可以使用 TensorFlow 的 [Neural Network](https://www.tensorflow.org/api_docs/python/tf/nn) 包。对于所有**其他层**，你依然可以使用快捷方法。\n"
   ]
  },
  {
   "cell_type": "code",
   "execution_count": 12,
   "metadata": {
    "collapsed": false
   },
   "outputs": [
    {
     "name": "stdout",
     "output_type": "stream",
     "text": [
      "Tests Passed\n"
     ]
    }
   ],
   "source": [
    "def conv2d_maxpool(x_tensor, conv_num_outputs, conv_ksize, conv_strides, pool_ksize, pool_strides):\n",
    "    input_depth = x_tensor.get_shape().as_list()[-1]\n",
    "    W = tf.Variable(tf.random_normal(\n",
    "        [conv_ksize[0], conv_ksize[1], input_depth, conv_num_outputs],\n",
    "        stddev=0.1\n",
    "    ))\n",
    "    b = tf.Variable(tf.zeros(conv_num_outputs))\n",
    "    conv = tf.nn.conv2d(x_tensor, W, [1, conv_strides[0], conv_strides[1], 1], 'SAME') + b\n",
    "    conv = tf.nn.relu(conv)\n",
    "    return tf.nn.max_pool(\n",
    "        conv,\n",
    "        [1, pool_ksize[0], pool_ksize[1], 1],\n",
    "        [1, pool_strides[0], pool_strides[1], 1],\n",
    "        'SAME'\n",
    "    )\n",
    "\n",
    "\n",
    "\"\"\"\n",
    "DON'T MODIFY ANYTHING IN THIS CELL THAT IS BELOW THIS LINE\n",
    "\"\"\"\n",
    "tests.test_con_pool(conv2d_maxpool)"
   ]
  },
  {
   "cell_type": "markdown",
   "metadata": {},
   "source": [
    "### 扁平化层\n",
    "\n",
    "实现 `flatten` 函数，将 `x_tensor` 的维度从四维张量（4-D tensor）变成二维张量。输出应该是形状（*部分大小（Batch Size）*，*扁平化图片大小（Flattened Image Size）*）。快捷方法：对于此层，你可以使用 [TensorFlow Layers](https://www.tensorflow.org/api_docs/python/tf/layers) 或 [TensorFlow Layers (contrib)](https://www.tensorflow.org/api_guides/python/contrib.layers) 包中的类。如果你想要更大挑战，可以仅使用其他 TensorFlow 程序包。\n"
   ]
  },
  {
   "cell_type": "code",
   "execution_count": 13,
   "metadata": {
    "collapsed": false
   },
   "outputs": [
    {
     "name": "stdout",
     "output_type": "stream",
     "text": [
      "Tests Passed\n"
     ]
    }
   ],
   "source": [
    "def flatten(x_tensor):\n",
    "    shape = x_tensor.get_shape().as_list()\n",
    "    return tf.reshape(x_tensor, [-1, np.prod(shape[1:])])\n",
    "\n",
    "\n",
    "\"\"\"\n",
    "DON'T MODIFY ANYTHING IN THIS CELL THAT IS BELOW THIS LINE\n",
    "\"\"\"\n",
    "tests.test_flatten(flatten)"
   ]
  },
  {
   "cell_type": "markdown",
   "metadata": {},
   "source": [
    "### 全连接层\n",
    "\n",
    "实现 `fully_conn` 函数，以向 `x_tensor` 应用完全连接的层级，形状为（*部分大小（Batch Size）*，*num_outputs*）。快捷方法：对于此层，你可以使用 [TensorFlow Layers](https://www.tensorflow.org/api_docs/python/tf/layers) 或 [TensorFlow Layers (contrib)](https://www.tensorflow.org/api_guides/python/contrib.layers) 包中的类。如果你想要更大挑战，可以仅使用其他 TensorFlow 程序包。"
   ]
  },
  {
   "cell_type": "code",
   "execution_count": 14,
   "metadata": {
    "collapsed": false
   },
   "outputs": [
    {
     "name": "stdout",
     "output_type": "stream",
     "text": [
      "Tests Passed\n"
     ]
    }
   ],
   "source": [
    "def fully_conn(x_tensor, num_outputs):\n",
    "    shape = x_tensor.get_shape().as_list()\n",
    "    W = tf.Variable(tf.random_normal([shape[-1], num_outputs], stddev=0.1))\n",
    "    b = tf.Variable(tf.zeros(num_outputs)) + 0.11\n",
    "    return tf.nn.relu(tf.add(tf.matmul(x_tensor, W), b))\n",
    "\n",
    "\n",
    "\"\"\"\n",
    "DON'T MODIFY ANYTHING IN THIS CELL THAT IS BELOW THIS LINE\n",
    "\"\"\"\n",
    "tests.test_fully_conn(fully_conn)"
   ]
  },
  {
   "cell_type": "markdown",
   "metadata": {},
   "source": [
    "### 输出层\n",
    "\n",
    "实现 `output` 函数，向 x_tensor 应用完全连接的层级，形状为（*部分大小（Batch Size）*，*num_outputs*）。快捷方法：对于此层，你可以使用 [TensorFlow Layers](https://www.tensorflow.org/api_docs/python/tf/layers) 或 [TensorFlow Layers (contrib)](https://www.tensorflow.org/api_guides/python/contrib.layers) 包中的类。如果你想要更大挑战，可以仅使用其他 TensorFlow 程序包。\n",
    "\n",
    "**注意**：该层级不应应用 Activation、softmax 或交叉熵（cross entropy）。"
   ]
  },
  {
   "cell_type": "code",
   "execution_count": 15,
   "metadata": {
    "collapsed": false
   },
   "outputs": [
    {
     "name": "stdout",
     "output_type": "stream",
     "text": [
      "Tests Passed\n"
     ]
    }
   ],
   "source": [
    "def output(x_tensor, num_outputs):\n",
    "    \"\"\"\n",
    "    Apply a output layer to x_tensor using weight and bias\n",
    "    : x_tensor: A 2-D tensor where the first dimension is batch size.\n",
    "    : num_outputs: The number of output that the new tensor should be.\n",
    "    : return: A 2-D tensor where the second dimensi|on is num_outputs.\n",
    "    \"\"\"\n",
    "    shape = x_tensor.get_shape().as_list()\n",
    "    W = tf.Variable(tf.random_normal([shape[-1], num_outputs]))\n",
    "    b = tf.Variable(tf.zeros(num_outputs))\n",
    "    return tf.add(tf.matmul(x_tensor, W), b)\n",
    "\n",
    "\n",
    "\"\"\"\n",
    "DON'T MODIFY ANYTHING IN THIS CELL THAT IS BELOW THIS LINE\n",
    "\"\"\"\n",
    "tests.test_output(output)"
   ]
  },
  {
   "cell_type": "markdown",
   "metadata": {},
   "source": [
    "### 创建卷积模型\n",
    "\n",
    "实现函数 `conv_net`， 创建卷积神经网络模型。该函数传入一批图片 `x`，并输出对数（logits）。使用你在上方创建的层创建此模型：\n",
    "\n",
    "* 应用 1、2 或 3 个卷积和最大池化层（Convolution and Max Pool layers）\n",
    "* 应用一个扁平层（Flatten Layer）\n",
    "* 应用 1、2 或 3 个完全连接层（Fully Connected Layers）\n",
    "* 应用一个输出层（Output Layer）\n",
    "* 返回输出\n",
    "* 使用 `keep_prob` 向模型中的一个或多个层应用 [TensorFlow 的 Dropout](https://www.tensorflow.org/api_docs/python/tf/nn/dropout)"
   ]
  },
  {
   "cell_type": "code",
   "execution_count": 16,
   "metadata": {
    "collapsed": false
   },
   "outputs": [
    {
     "name": "stdout",
     "output_type": "stream",
     "text": [
      "Neural Network Built!\n"
     ]
    }
   ],
   "source": [
    "def conv_net(x, keep_prob):\n",
    "    \"\"\"\n",
    "    Create a convolutional neural network model\n",
    "    : x: Placeholder tensor that holds image data.\n",
    "    : keep_prob: Placeholder tensor that hold dropout keep probability.\n",
    "    : return: Tensor that represents logits\n",
    "    \"\"\"\n",
    "    tmp = conv2d_maxpool(x, 64, [3, 3], [1, 1], [3, 3], [2, 2])\n",
    "    tf.nn.dropout(tmp, keep_prob=keep_prob)\n",
    "    tmp = flatten(tmp)\n",
    "    tmp = fully_conn(tmp, 384)\n",
    "    tf.nn.dropout(tmp, keep_prob=keep_prob)\n",
    "    tmp = fully_conn(tmp, 192)\n",
    "    tf.nn.dropout(tmp, keep_prob=keep_prob)\n",
    "    return output(tmp, 10)\n",
    "\n",
    "\"\"\"\n",
    "DON'T MODIFY ANYTHING IN THIS CELL THAT IS BELOW THIS LINE\n",
    "\"\"\"\n",
    "\n",
    "##############################\n",
    "## Build the Neural Network ##\n",
    "##############################\n",
    "\n",
    "# Remove previous weights, bias, inputs, etc..\n",
    "tf.reset_default_graph()\n",
    "\n",
    "# Inputs\n",
    "x = neural_net_image_input((32, 32, 3))\n",
    "y = neural_net_label_input(10)\n",
    "keep_prob = neural_net_keep_prob_input()\n",
    "\n",
    "# Model\n",
    "logits = conv_net(x, keep_prob)\n",
    "\n",
    "# Name logits Tensor, so that is can be loaded from disk after training\n",
    "logits = tf.identity(logits, name='logits')\n",
    "\n",
    "# Loss and Optimizer\n",
    "cost = tf.reduce_mean(tf.nn.softmax_cross_entropy_with_logits(logits=logits, labels=y))\n",
    "optimizer = tf.train.AdamOptimizer().minimize(cost)\n",
    "\n",
    "# Accuracy\n",
    "correct_pred = tf.equal(tf.argmax(logits, 1), tf.argmax(y, 1))\n",
    "accuracy = tf.reduce_mean(tf.cast(correct_pred, tf.float32), name='accuracy')\n",
    "\n",
    "tests.test_conv_net(conv_net)"
   ]
  },
  {
   "cell_type": "markdown",
   "metadata": {},
   "source": [
    "## 训练神经网络\n",
    "\n",
    "### 单次优化\n",
    "\n",
    "实现函数 `train_neural_network` 以进行单次优化（single optimization）。该优化应该使用 `optimizer` 优化 `session`，其中 `feed_dict` 具有以下参数：\n",
    "\n",
    "* `x` 表示图片输入\n",
    "* `y` 表示标签\n",
    "* `keep_prob` 表示丢弃的保留率\n",
    "\n",
    "每个部分都会调用该函数，所以 `tf.global_variables_initializer()` 已经被调用。\n",
    "\n",
    "注意：不需要返回任何内容。该函数只是用来优化神经网络。\n"
   ]
  },
  {
   "cell_type": "code",
   "execution_count": 17,
   "metadata": {
    "collapsed": false
   },
   "outputs": [
    {
     "name": "stdout",
     "output_type": "stream",
     "text": [
      "Tests Passed\n"
     ]
    }
   ],
   "source": [
    "def train_neural_network(session, optimizer, keep_probability, feature_batch, label_batch):\n",
    "    \"\"\"\n",
    "    Optimize the session on a batch of images and labels\n",
    "    : session: Current TensorFlow session\n",
    "    : optimizer: TensorFlow optimizer function\n",
    "    : keep_probability: keep probability\n",
    "    : feature_batch: Batch of Numpy image data\n",
    "    : label_batch: Batch of Numpy label data\n",
    "    \"\"\"\n",
    "    # TODO: Implement Function\n",
    "    session.run(optimizer, feed_dict={x: feature_batch, y: label_batch, keep_prob: keep_probability})\n",
    "\n",
    "\n",
    "\"\"\"\n",
    "DON'T MODIFY ANYTHING IN THIS CELL THAT IS BELOW THIS LINE\n",
    "\"\"\"\n",
    "tests.test_train_nn(train_neural_network)"
   ]
  },
  {
   "cell_type": "markdown",
   "metadata": {},
   "source": [
    "### 显示数据\n",
    "\n",
    "实现函数 `print_stats` 以输出损失和验证准确率。使用全局变量 `valid_features` 和 `valid_labels` 计算验证准确率。使用保留率 `1.0` 计算损失和验证准确率（loss and validation accuracy）。\n"
   ]
  },
  {
   "cell_type": "code",
   "execution_count": 18,
   "metadata": {
    "collapsed": false
   },
   "outputs": [],
   "source": [
    "def print_stats(session, feature_batch, label_batch, cost, accuracy):\n",
    "    \"\"\"\n",
    "    Print information about loss and validation accuracy\n",
    "    : session: Current TensorFlow session\n",
    "    : feature_batch: Batch of Numpy image data\n",
    "    : label_batch: Batch of Numpy label data\n",
    "    : cost: TensorFlow cost function\n",
    "    : accuracy: TensorFlow accuracy function\n",
    "    \"\"\"\n",
    "    global valid_features, valid_labels\n",
    "    validation_accuracy = session.run(\n",
    "        accuracy,\n",
    "        feed_dict={\n",
    "            x: valid_features,\n",
    "            y: valid_labels,\n",
    "            keep_prob: 1.0,\n",
    "        }\n",
    "    )\n",
    "    cost = session.run(\n",
    "        cost,\n",
    "        feed_dict={\n",
    "            x: feature_batch,\n",
    "            y: label_batch,\n",
    "            keep_prob: 1.0,\n",
    "        }\n",
    "    )\n",
    "    print('Cost = {0} - Validation Accuracy = {1}'.format(cost, validation_accuracy))"
   ]
  },
  {
   "cell_type": "markdown",
   "metadata": {},
   "source": [
    "### 超参数\n",
    "\n",
    "调试以下超参数：\n",
    "* 设置 `epochs` 表示神经网络停止学习或开始过拟合的迭代次数\n",
    "* 设置 `batch_size`，表示机器内存允许的部分最大体积。大部分人设为以下常见内存大小：\n",
    "\n",
    " * 64\n",
    " * 128\n",
    " * 256\n",
    " * ...\n",
    "* 设置 `keep_probability` 表示使用丢弃时保留节点的概率"
   ]
  },
  {
   "cell_type": "code",
   "execution_count": 19,
   "metadata": {
    "collapsed": true
   },
   "outputs": [],
   "source": [
    "# TODO: Tune Parameters\n",
    "epochs = 50\n",
    "batch_size = 1024\n",
    "keep_probability = 0.5"
   ]
  },
  {
   "cell_type": "markdown",
   "metadata": {},
   "source": [
    "### 在单个 CIFAR-10 部分上训练\n",
    "\n",
    "我们先用单个部分，而不是用所有的 CIFAR-10 批次训练神经网络。这样可以节省时间，并对模型进行迭代，以提高准确率。最终验证准确率达到 50% 或以上之后，在下一部分对所有数据运行模型。\n"
   ]
  },
  {
   "cell_type": "code",
   "execution_count": 20,
   "metadata": {
    "collapsed": false
   },
   "outputs": [
    {
     "name": "stdout",
     "output_type": "stream",
     "text": [
      "Checking the Training on a Single Batch...\n",
      "Epoch  1, CIFAR-10 Batch 1:  Cost = 39.87052917480469 - Validation Accuracy = 0.121799997985363\n",
      "Epoch  2, CIFAR-10 Batch 1:  Cost = 11.055692672729492 - Validation Accuracy = 0.1777999997138977\n",
      "Epoch  3, CIFAR-10 Batch 1:  Cost = 6.512266159057617 - Validation Accuracy = 0.20340000092983246\n",
      "Epoch  4, CIFAR-10 Batch 1:  Cost = 4.477320194244385 - Validation Accuracy = 0.2142000049352646\n",
      "Epoch  5, CIFAR-10 Batch 1:  Cost = 3.4916164875030518 - Validation Accuracy = 0.23659999668598175\n",
      "Epoch  6, CIFAR-10 Batch 1:  Cost = 2.925908088684082 - Validation Accuracy = 0.26579999923706055\n",
      "Epoch  7, CIFAR-10 Batch 1:  Cost = 2.635801076889038 - Validation Accuracy = 0.2964000105857849\n",
      "Epoch  8, CIFAR-10 Batch 1:  Cost = 2.3861351013183594 - Validation Accuracy = 0.3192000091075897\n",
      "Epoch  9, CIFAR-10 Batch 1:  Cost = 2.1579196453094482 - Validation Accuracy = 0.33980000019073486\n",
      "Epoch 10, CIFAR-10 Batch 1:  Cost = 1.9655420780181885 - Validation Accuracy = 0.3614000082015991\n",
      "Epoch 11, CIFAR-10 Batch 1:  Cost = 1.7934727668762207 - Validation Accuracy = 0.3806000053882599\n",
      "Epoch 12, CIFAR-10 Batch 1:  Cost = 1.6643913984298706 - Validation Accuracy = 0.3928000032901764\n",
      "Epoch 13, CIFAR-10 Batch 1:  Cost = 1.5395163297653198 - Validation Accuracy = 0.4020000100135803\n",
      "Epoch 14, CIFAR-10 Batch 1:  Cost = 1.4295445680618286 - Validation Accuracy = 0.420199990272522\n",
      "Epoch 15, CIFAR-10 Batch 1:  Cost = 1.3358112573623657 - Validation Accuracy = 0.4253999888896942\n",
      "Epoch 16, CIFAR-10 Batch 1:  Cost = 1.2477543354034424 - Validation Accuracy = 0.4318000078201294\n",
      "Epoch 17, CIFAR-10 Batch 1:  Cost = 1.1609671115875244 - Validation Accuracy = 0.446399986743927\n",
      "Epoch 18, CIFAR-10 Batch 1:  Cost = 1.0852867364883423 - Validation Accuracy = 0.45820000767707825\n",
      "Epoch 19, CIFAR-10 Batch 1:  Cost = 1.0164637565612793 - Validation Accuracy = 0.47099998593330383\n",
      "Epoch 20, CIFAR-10 Batch 1:  Cost = 0.9547567963600159 - Validation Accuracy = 0.4740000069141388\n",
      "Epoch 21, CIFAR-10 Batch 1:  Cost = 0.9160394668579102 - Validation Accuracy = 0.4779999852180481\n",
      "Epoch 22, CIFAR-10 Batch 1:  Cost = 0.878519594669342 - Validation Accuracy = 0.4772000014781952\n",
      "Epoch 23, CIFAR-10 Batch 1:  Cost = 0.8233087658882141 - Validation Accuracy = 0.4797999858856201\n",
      "Epoch 24, CIFAR-10 Batch 1:  Cost = 0.8048570156097412 - Validation Accuracy = 0.4763999879360199\n",
      "Epoch 25, CIFAR-10 Batch 1:  Cost = 0.7445501685142517 - Validation Accuracy = 0.49000000953674316\n",
      "Epoch 26, CIFAR-10 Batch 1:  Cost = 0.6887269020080566 - Validation Accuracy = 0.49959999322891235\n",
      "Epoch 27, CIFAR-10 Batch 1:  Cost = 0.6555246710777283 - Validation Accuracy = 0.5016000270843506\n",
      "Epoch 28, CIFAR-10 Batch 1:  Cost = 0.6468092799186707 - Validation Accuracy = 0.49959999322891235\n",
      "Epoch 29, CIFAR-10 Batch 1:  Cost = 0.6265650987625122 - Validation Accuracy = 0.49720001220703125\n",
      "Epoch 30, CIFAR-10 Batch 1:  Cost = 0.6021474599838257 - Validation Accuracy = 0.4973999857902527\n",
      "Epoch 31, CIFAR-10 Batch 1:  Cost = 0.6073464751243591 - Validation Accuracy = 0.49540001153945923\n",
      "Epoch 32, CIFAR-10 Batch 1:  Cost = 0.5737523436546326 - Validation Accuracy = 0.49799999594688416\n",
      "Epoch 33, CIFAR-10 Batch 1:  Cost = 0.5018808245658875 - Validation Accuracy = 0.5099999904632568\n",
      "Epoch 34, CIFAR-10 Batch 1:  Cost = 0.4726308286190033 - Validation Accuracy = 0.51419997215271\n",
      "Epoch 35, CIFAR-10 Batch 1:  Cost = 0.4507597088813782 - Validation Accuracy = 0.5153999924659729\n",
      "Epoch 36, CIFAR-10 Batch 1:  Cost = 0.42636698484420776 - Validation Accuracy = 0.5171999931335449\n",
      "Epoch 37, CIFAR-10 Batch 1:  Cost = 0.3983284831047058 - Validation Accuracy = 0.5212000012397766\n",
      "Epoch 38, CIFAR-10 Batch 1:  Cost = 0.3736364245414734 - Validation Accuracy = 0.5192000269889832\n",
      "Epoch 39, CIFAR-10 Batch 1:  Cost = 0.36036598682403564 - Validation Accuracy = 0.5203999876976013\n",
      "Epoch 40, CIFAR-10 Batch 1:  Cost = 0.3500223457813263 - Validation Accuracy = 0.5170000195503235\n",
      "Epoch 41, CIFAR-10 Batch 1:  Cost = 0.33267393708229065 - Validation Accuracy = 0.521399974822998\n",
      "Epoch 42, CIFAR-10 Batch 1:  Cost = 0.31002429127693176 - Validation Accuracy = 0.5260000228881836\n",
      "Epoch 43, CIFAR-10 Batch 1:  Cost = 0.2961713969707489 - Validation Accuracy = 0.5296000242233276\n",
      "Epoch 44, CIFAR-10 Batch 1:  Cost = 0.27700045704841614 - Validation Accuracy = 0.531000018119812\n",
      "Epoch 45, CIFAR-10 Batch 1:  Cost = 0.2674638330936432 - Validation Accuracy = 0.5230000019073486\n",
      "Epoch 46, CIFAR-10 Batch 1:  Cost = 0.27920326590538025 - Validation Accuracy = 0.5171999931335449\n",
      "Epoch 47, CIFAR-10 Batch 1:  Cost = 0.26006853580474854 - Validation Accuracy = 0.5217999815940857\n",
      "Epoch 48, CIFAR-10 Batch 1:  Cost = 0.22840599715709686 - Validation Accuracy = 0.5288000106811523\n",
      "Epoch 49, CIFAR-10 Batch 1:  Cost = 0.22567500174045563 - Validation Accuracy = 0.5332000255584717\n",
      "Epoch 50, CIFAR-10 Batch 1:  Cost = 0.22471725940704346 - Validation Accuracy = 0.5248000025749207\n"
     ]
    }
   ],
   "source": [
    "\"\"\"\n",
    "DON'T MODIFY ANYTHING IN THIS CELL\n",
    "\"\"\"\n",
    "print('Checking the Training on a Single Batch...')\n",
    "with tf.Session() as sess:\n",
    "    # Initializing the variables\n",
    "    sess.run(tf.global_variables_initializer())\n",
    "    \n",
    "    # Training cycle\n",
    "    for epoch in range(epochs):\n",
    "        batch_i = 1\n",
    "        for batch_features, batch_labels in helper.load_preprocess_training_batch(batch_i, batch_size):\n",
    "            train_neural_network(sess, optimizer, keep_probability, batch_features, batch_labels)\n",
    "        print('Epoch {:>2}, CIFAR-10 Batch {}:  '.format(epoch + 1, batch_i), end='')\n",
    "        print_stats(sess, batch_features, batch_labels, cost, accuracy)"
   ]
  },
  {
   "cell_type": "markdown",
   "metadata": {},
   "source": [
    "### 完全训练模型\n",
    "\n",
    "现在，单个 CIFAR-10 部分的准确率已经不错了，试试所有五个部分吧。"
   ]
  },
  {
   "cell_type": "code",
   "execution_count": 21,
   "metadata": {
    "collapsed": false
   },
   "outputs": [
    {
     "name": "stdout",
     "output_type": "stream",
     "text": [
      "Training...\n",
      "Epoch  1, CIFAR-10 Batch 1:  Cost = 58.79663848876953 - Validation Accuracy = 0.1273999959230423\n",
      "Epoch  1, CIFAR-10 Batch 2:  Cost = 17.97417640686035 - Validation Accuracy = 0.14920000731945038\n",
      "Epoch  1, CIFAR-10 Batch 3:  Cost = 6.790489673614502 - Validation Accuracy = 0.17579999566078186\n",
      "Epoch  1, CIFAR-10 Batch 4:  Cost = 4.735757827758789 - Validation Accuracy = 0.2223999947309494\n",
      "Epoch  1, CIFAR-10 Batch 5:  Cost = 3.522796392440796 - Validation Accuracy = 0.21539999544620514\n",
      "Epoch  2, CIFAR-10 Batch 1:  Cost = 2.8572158813476562 - Validation Accuracy = 0.26420000195503235\n",
      "Epoch  2, CIFAR-10 Batch 2:  Cost = 2.656355142593384 - Validation Accuracy = 0.27880001068115234\n",
      "Epoch  2, CIFAR-10 Batch 3:  Cost = 2.420199394226074 - Validation Accuracy = 0.3009999990463257\n",
      "Epoch  2, CIFAR-10 Batch 4:  Cost = 2.2591161727905273 - Validation Accuracy = 0.3352000117301941\n",
      "Epoch  2, CIFAR-10 Batch 5:  Cost = 2.1817197799682617 - Validation Accuracy = 0.3492000102996826\n",
      "Epoch  3, CIFAR-10 Batch 1:  Cost = 1.9401092529296875 - Validation Accuracy = 0.3747999966144562\n",
      "Epoch  3, CIFAR-10 Batch 2:  Cost = 1.9089784622192383 - Validation Accuracy = 0.38359999656677246\n",
      "Epoch  3, CIFAR-10 Batch 3:  Cost = 1.8055667877197266 - Validation Accuracy = 0.39879998564720154\n",
      "Epoch  3, CIFAR-10 Batch 4:  Cost = 1.7539476156234741 - Validation Accuracy = 0.4171999990940094\n",
      "Epoch  3, CIFAR-10 Batch 5:  Cost = 1.7036060094833374 - Validation Accuracy = 0.4235999882221222\n",
      "Epoch  4, CIFAR-10 Batch 1:  Cost = 1.5942802429199219 - Validation Accuracy = 0.43479999899864197\n",
      "Epoch  4, CIFAR-10 Batch 2:  Cost = 1.5907070636749268 - Validation Accuracy = 0.4426000118255615\n",
      "Epoch  4, CIFAR-10 Batch 3:  Cost = 1.5054941177368164 - Validation Accuracy = 0.460999995470047\n",
      "Epoch  4, CIFAR-10 Batch 4:  Cost = 1.4902348518371582 - Validation Accuracy = 0.46619999408721924\n",
      "Epoch  4, CIFAR-10 Batch 5:  Cost = 1.4352644681930542 - Validation Accuracy = 0.4726000130176544\n",
      "Epoch  5, CIFAR-10 Batch 1:  Cost = 1.4008220434188843 - Validation Accuracy = 0.4828000068664551\n",
      "Epoch  5, CIFAR-10 Batch 2:  Cost = 1.4021449089050293 - Validation Accuracy = 0.49140000343322754\n",
      "Epoch  5, CIFAR-10 Batch 3:  Cost = 1.31951904296875 - Validation Accuracy = 0.49900001287460327\n",
      "Epoch  5, CIFAR-10 Batch 4:  Cost = 1.3204290866851807 - Validation Accuracy = 0.5049999952316284\n",
      "Epoch  5, CIFAR-10 Batch 5:  Cost = 1.2499892711639404 - Validation Accuracy = 0.5127999782562256\n",
      "Epoch  6, CIFAR-10 Batch 1:  Cost = 1.2739369869232178 - Validation Accuracy = 0.5189999938011169\n",
      "Epoch  6, CIFAR-10 Batch 2:  Cost = 1.2646262645721436 - Validation Accuracy = 0.5153999924659729\n",
      "Epoch  6, CIFAR-10 Batch 3:  Cost = 1.194141149520874 - Validation Accuracy = 0.5252000093460083\n",
      "Epoch  6, CIFAR-10 Batch 4:  Cost = 1.2101783752441406 - Validation Accuracy = 0.5281999707221985\n",
      "Epoch  6, CIFAR-10 Batch 5:  Cost = 1.125484585762024 - Validation Accuracy = 0.5314000248908997\n",
      "Epoch  7, CIFAR-10 Batch 1:  Cost = 1.171281099319458 - Validation Accuracy = 0.5432000160217285\n",
      "Epoch  7, CIFAR-10 Batch 2:  Cost = 1.1491976976394653 - Validation Accuracy = 0.5401999950408936\n",
      "Epoch  7, CIFAR-10 Batch 3:  Cost = 1.0926297903060913 - Validation Accuracy = 0.5454000234603882\n",
      "Epoch  7, CIFAR-10 Batch 4:  Cost = 1.113709568977356 - Validation Accuracy = 0.5478000044822693\n",
      "Epoch  7, CIFAR-10 Batch 5:  Cost = 1.0237690210342407 - Validation Accuracy = 0.5532000064849854\n",
      "Epoch  8, CIFAR-10 Batch 1:  Cost = 1.0865274667739868 - Validation Accuracy = 0.5583999752998352\n",
      "Epoch  8, CIFAR-10 Batch 2:  Cost = 1.0507670640945435 - Validation Accuracy = 0.5626000165939331\n",
      "Epoch  8, CIFAR-10 Batch 3:  Cost = 1.0088307857513428 - Validation Accuracy = 0.5633999705314636\n",
      "Epoch  8, CIFAR-10 Batch 4:  Cost = 1.0240005254745483 - Validation Accuracy = 0.5608000159263611\n",
      "Epoch  8, CIFAR-10 Batch 5:  Cost = 0.9356621503829956 - Validation Accuracy = 0.5681999921798706\n",
      "Epoch  9, CIFAR-10 Batch 1:  Cost = 1.0018171072006226 - Validation Accuracy = 0.5727999806404114\n",
      "Epoch  9, CIFAR-10 Batch 2:  Cost = 0.9631978869438171 - Validation Accuracy = 0.5771999955177307\n",
      "Epoch  9, CIFAR-10 Batch 3:  Cost = 0.9309382438659668 - Validation Accuracy = 0.5802000164985657\n",
      "Epoch  9, CIFAR-10 Batch 4:  Cost = 0.9408416748046875 - Validation Accuracy = 0.5691999793052673\n",
      "Epoch  9, CIFAR-10 Batch 5:  Cost = 0.8623861074447632 - Validation Accuracy = 0.5809999704360962\n",
      "Epoch 10, CIFAR-10 Batch 1:  Cost = 0.9264573454856873 - Validation Accuracy = 0.5849999785423279\n",
      "Epoch 10, CIFAR-10 Batch 2:  Cost = 0.8865712881088257 - Validation Accuracy = 0.5852000117301941\n",
      "Epoch 10, CIFAR-10 Batch 3:  Cost = 0.8591609001159668 - Validation Accuracy = 0.5907999873161316\n",
      "Epoch 10, CIFAR-10 Batch 4:  Cost = 0.8689135313034058 - Validation Accuracy = 0.5785999894142151\n",
      "Epoch 10, CIFAR-10 Batch 5:  Cost = 0.7979105114936829 - Validation Accuracy = 0.5870000123977661\n",
      "Epoch 11, CIFAR-10 Batch 1:  Cost = 0.8587018251419067 - Validation Accuracy = 0.5946000218391418\n",
      "Epoch 11, CIFAR-10 Batch 2:  Cost = 0.82145094871521 - Validation Accuracy = 0.5950000286102295\n",
      "Epoch 11, CIFAR-10 Batch 3:  Cost = 0.8042851686477661 - Validation Accuracy = 0.5935999751091003\n",
      "Epoch 11, CIFAR-10 Batch 4:  Cost = 0.8028070330619812 - Validation Accuracy = 0.5898000001907349\n",
      "Epoch 11, CIFAR-10 Batch 5:  Cost = 0.7373026013374329 - Validation Accuracy = 0.593999981880188\n",
      "Epoch 12, CIFAR-10 Batch 1:  Cost = 0.8104886412620544 - Validation Accuracy = 0.6021999716758728\n",
      "Epoch 12, CIFAR-10 Batch 2:  Cost = 0.7628371119499207 - Validation Accuracy = 0.6028000116348267\n",
      "Epoch 12, CIFAR-10 Batch 3:  Cost = 0.7477801442146301 - Validation Accuracy = 0.6019999980926514\n",
      "Epoch 12, CIFAR-10 Batch 4:  Cost = 0.7449142932891846 - Validation Accuracy = 0.5953999757766724\n",
      "Epoch 12, CIFAR-10 Batch 5:  Cost = 0.6796349883079529 - Validation Accuracy = 0.6000000238418579\n",
      "Epoch 13, CIFAR-10 Batch 1:  Cost = 0.7669389247894287 - Validation Accuracy = 0.5996000170707703\n",
      "Epoch 13, CIFAR-10 Batch 2:  Cost = 0.7084258198738098 - Validation Accuracy = 0.6046000123023987\n",
      "Epoch 13, CIFAR-10 Batch 3:  Cost = 0.7145301103591919 - Validation Accuracy = 0.5997999906539917\n",
      "Epoch 13, CIFAR-10 Batch 4:  Cost = 0.6905555129051208 - Validation Accuracy = 0.5956000089645386\n",
      "Epoch 13, CIFAR-10 Batch 5:  Cost = 0.6323908567428589 - Validation Accuracy = 0.599399983882904\n",
      "Epoch 14, CIFAR-10 Batch 1:  Cost = 0.7481932044029236 - Validation Accuracy = 0.5992000102996826\n",
      "Epoch 14, CIFAR-10 Batch 2:  Cost = 0.657221257686615 - Validation Accuracy = 0.6119999885559082\n",
      "Epoch 14, CIFAR-10 Batch 3:  Cost = 0.6859759092330933 - Validation Accuracy = 0.600600004196167\n",
      "Epoch 14, CIFAR-10 Batch 4:  Cost = 0.6509848237037659 - Validation Accuracy = 0.5997999906539917\n",
      "Epoch 14, CIFAR-10 Batch 5:  Cost = 0.5864262580871582 - Validation Accuracy = 0.6014000177383423\n",
      "Epoch 15, CIFAR-10 Batch 1:  Cost = 0.6873106956481934 - Validation Accuracy = 0.6065999865531921\n",
      "Epoch 15, CIFAR-10 Batch 2:  Cost = 0.6599559783935547 - Validation Accuracy = 0.6086000204086304\n",
      "Epoch 15, CIFAR-10 Batch 3:  Cost = 0.6704826951026917 - Validation Accuracy = 0.6047999858856201\n",
      "Epoch 15, CIFAR-10 Batch 4:  Cost = 0.6103174090385437 - Validation Accuracy = 0.603600025177002\n",
      "Epoch 15, CIFAR-10 Batch 5:  Cost = 0.5952674746513367 - Validation Accuracy = 0.5889999866485596\n",
      "Epoch 16, CIFAR-10 Batch 1:  Cost = 0.6582875847816467 - Validation Accuracy = 0.6018000245094299\n",
      "Epoch 16, CIFAR-10 Batch 2:  Cost = 0.5994665026664734 - Validation Accuracy = 0.6093999743461609\n",
      "Epoch 16, CIFAR-10 Batch 3:  Cost = 0.6327882409095764 - Validation Accuracy = 0.6019999980926514\n",
      "Epoch 16, CIFAR-10 Batch 4:  Cost = 0.6543044447898865 - Validation Accuracy = 0.5899999737739563\n",
      "Epoch 16, CIFAR-10 Batch 5:  Cost = 0.5850628018379211 - Validation Accuracy = 0.6011999845504761\n",
      "Epoch 17, CIFAR-10 Batch 1:  Cost = 0.6684508323669434 - Validation Accuracy = 0.6011999845504761\n",
      "Epoch 17, CIFAR-10 Batch 2:  Cost = 0.6273906230926514 - Validation Accuracy = 0.5874000191688538\n",
      "Epoch 17, CIFAR-10 Batch 3:  Cost = 0.564502477645874 - Validation Accuracy = 0.6182000041007996\n",
      "Epoch 17, CIFAR-10 Batch 4:  Cost = 0.5986388325691223 - Validation Accuracy = 0.6010000109672546\n",
      "Epoch 17, CIFAR-10 Batch 5:  Cost = 0.5332220196723938 - Validation Accuracy = 0.6087999939918518\n",
      "Epoch 18, CIFAR-10 Batch 1:  Cost = 0.565326988697052 - Validation Accuracy = 0.6215999722480774\n",
      "Epoch 18, CIFAR-10 Batch 2:  Cost = 0.5377820730209351 - Validation Accuracy = 0.6082000136375427\n",
      "Epoch 18, CIFAR-10 Batch 3:  Cost = 0.5404966473579407 - Validation Accuracy = 0.6137999892234802\n",
      "Epoch 18, CIFAR-10 Batch 4:  Cost = 0.5625038743019104 - Validation Accuracy = 0.5917999744415283\n",
      "Epoch 18, CIFAR-10 Batch 5:  Cost = 0.47364556789398193 - Validation Accuracy = 0.6182000041007996\n",
      "Epoch 19, CIFAR-10 Batch 1:  Cost = 0.562340259552002 - Validation Accuracy = 0.6209999918937683\n",
      "Epoch 19, CIFAR-10 Batch 2:  Cost = 0.5058149695396423 - Validation Accuracy = 0.6150000095367432\n",
      "Epoch 19, CIFAR-10 Batch 3:  Cost = 0.505843997001648 - Validation Accuracy = 0.6169999837875366\n",
      "Epoch 19, CIFAR-10 Batch 4:  Cost = 0.4817070960998535 - Validation Accuracy = 0.6118000149726868\n",
      "Epoch 19, CIFAR-10 Batch 5:  Cost = 0.4146396219730377 - Validation Accuracy = 0.6212000250816345\n",
      "Epoch 20, CIFAR-10 Batch 1:  Cost = 0.5559982657432556 - Validation Accuracy = 0.6172000169754028\n",
      "Epoch 20, CIFAR-10 Batch 2:  Cost = 0.45933282375335693 - Validation Accuracy = 0.6209999918937683\n",
      "Epoch 20, CIFAR-10 Batch 3:  Cost = 0.48574259877204895 - Validation Accuracy = 0.6204000115394592\n",
      "Epoch 20, CIFAR-10 Batch 4:  Cost = 0.4509357511997223 - Validation Accuracy = 0.6118000149726868\n",
      "Epoch 20, CIFAR-10 Batch 5:  Cost = 0.4051295816898346 - Validation Accuracy = 0.6141999959945679\n",
      "Epoch 21, CIFAR-10 Batch 1:  Cost = 0.4913673400878906 - Validation Accuracy = 0.6186000108718872\n",
      "Epoch 21, CIFAR-10 Batch 2:  Cost = 0.4328490197658539 - Validation Accuracy = 0.6230000257492065\n",
      "Epoch 21, CIFAR-10 Batch 3:  Cost = 0.4700002372264862 - Validation Accuracy = 0.6177999973297119\n",
      "Epoch 21, CIFAR-10 Batch 4:  Cost = 0.427411288022995 - Validation Accuracy = 0.6065999865531921\n",
      "Epoch 21, CIFAR-10 Batch 5:  Cost = 0.39980340003967285 - Validation Accuracy = 0.6029999852180481\n",
      "Epoch 22, CIFAR-10 Batch 1:  Cost = 0.4504871070384979 - Validation Accuracy = 0.623199999332428\n",
      "Epoch 22, CIFAR-10 Batch 2:  Cost = 0.42048394680023193 - Validation Accuracy = 0.6082000136375427\n",
      "Epoch 22, CIFAR-10 Batch 3:  Cost = 0.4343779683113098 - Validation Accuracy = 0.6158000230789185\n",
      "Epoch 22, CIFAR-10 Batch 4:  Cost = 0.4308747351169586 - Validation Accuracy = 0.600600004196167\n",
      "Epoch 22, CIFAR-10 Batch 5:  Cost = 0.4104360342025757 - Validation Accuracy = 0.5978000164031982\n",
      "Epoch 23, CIFAR-10 Batch 1:  Cost = 0.42284801602363586 - Validation Accuracy = 0.6254000067710876\n",
      "Epoch 23, CIFAR-10 Batch 2:  Cost = 0.4206255078315735 - Validation Accuracy = 0.6033999919891357\n",
      "Epoch 23, CIFAR-10 Batch 3:  Cost = 0.39978522062301636 - Validation Accuracy = 0.6137999892234802\n",
      "Epoch 23, CIFAR-10 Batch 4:  Cost = 0.4023977518081665 - Validation Accuracy = 0.6086000204086304\n",
      "Epoch 23, CIFAR-10 Batch 5:  Cost = 0.3723703622817993 - Validation Accuracy = 0.602400004863739\n",
      "Epoch 24, CIFAR-10 Batch 1:  Cost = 0.4980059266090393 - Validation Accuracy = 0.5961999893188477\n",
      "Epoch 24, CIFAR-10 Batch 2:  Cost = 0.39548593759536743 - Validation Accuracy = 0.6074000000953674\n",
      "Epoch 24, CIFAR-10 Batch 3:  Cost = 0.37658676505088806 - Validation Accuracy = 0.6187999844551086\n",
      "Epoch 24, CIFAR-10 Batch 4:  Cost = 0.3738085627555847 - Validation Accuracy = 0.6060000061988831\n",
      "Epoch 24, CIFAR-10 Batch 5:  Cost = 0.358450710773468 - Validation Accuracy = 0.602400004863739\n",
      "Epoch 25, CIFAR-10 Batch 1:  Cost = 0.38636091351509094 - Validation Accuracy = 0.6223999857902527\n",
      "Epoch 25, CIFAR-10 Batch 2:  Cost = 0.4024546146392822 - Validation Accuracy = 0.6075999736785889\n",
      "Epoch 25, CIFAR-10 Batch 3:  Cost = 0.36147311329841614 - Validation Accuracy = 0.6126000285148621\n",
      "Epoch 25, CIFAR-10 Batch 4:  Cost = 0.3824291527271271 - Validation Accuracy = 0.600600004196167\n",
      "Epoch 25, CIFAR-10 Batch 5:  Cost = 0.33650848269462585 - Validation Accuracy = 0.5938000082969666\n",
      "Epoch 26, CIFAR-10 Batch 1:  Cost = 0.4164205491542816 - Validation Accuracy = 0.6019999980926514\n",
      "Epoch 26, CIFAR-10 Batch 2:  Cost = 0.39257752895355225 - Validation Accuracy = 0.6118000149726868\n",
      "Epoch 26, CIFAR-10 Batch 3:  Cost = 0.39493507146835327 - Validation Accuracy = 0.6010000109672546\n",
      "Epoch 26, CIFAR-10 Batch 4:  Cost = 0.35757121443748474 - Validation Accuracy = 0.5856000185012817\n",
      "Epoch 26, CIFAR-10 Batch 5:  Cost = 0.31583133339881897 - Validation Accuracy = 0.5956000089645386\n",
      "Epoch 27, CIFAR-10 Batch 1:  Cost = 0.427925705909729 - Validation Accuracy = 0.5947999954223633\n",
      "Epoch 27, CIFAR-10 Batch 2:  Cost = 0.4042752683162689 - Validation Accuracy = 0.5982000231742859\n",
      "Epoch 27, CIFAR-10 Batch 3:  Cost = 0.3427962362766266 - Validation Accuracy = 0.600600004196167\n",
      "Epoch 27, CIFAR-10 Batch 4:  Cost = 0.3839081823825836 - Validation Accuracy = 0.569599986076355\n",
      "Epoch 27, CIFAR-10 Batch 5:  Cost = 0.3875141739845276 - Validation Accuracy = 0.5699999928474426\n",
      "Epoch 28, CIFAR-10 Batch 1:  Cost = 0.43881985545158386 - Validation Accuracy = 0.5784000158309937\n",
      "Epoch 28, CIFAR-10 Batch 2:  Cost = 0.4183766841888428 - Validation Accuracy = 0.5879999995231628\n",
      "Epoch 28, CIFAR-10 Batch 3:  Cost = 0.4023713171482086 - Validation Accuracy = 0.5874000191688538\n",
      "Epoch 28, CIFAR-10 Batch 4:  Cost = 0.32242467999458313 - Validation Accuracy = 0.5965999960899353\n",
      "Epoch 28, CIFAR-10 Batch 5:  Cost = 0.34559592604637146 - Validation Accuracy = 0.5767999887466431\n",
      "Epoch 29, CIFAR-10 Batch 1:  Cost = 0.3787860572338104 - Validation Accuracy = 0.5992000102996826\n",
      "Epoch 29, CIFAR-10 Batch 2:  Cost = 0.3147115111351013 - Validation Accuracy = 0.6248000264167786\n",
      "Epoch 29, CIFAR-10 Batch 3:  Cost = 0.4175768196582794 - Validation Accuracy = 0.5809999704360962\n",
      "Epoch 29, CIFAR-10 Batch 4:  Cost = 0.3434206545352936 - Validation Accuracy = 0.6078000068664551\n",
      "Epoch 29, CIFAR-10 Batch 5:  Cost = 0.2854636311531067 - Validation Accuracy = 0.6140000224113464\n",
      "Epoch 30, CIFAR-10 Batch 1:  Cost = 0.3152098059654236 - Validation Accuracy = 0.6299999952316284\n",
      "Epoch 30, CIFAR-10 Batch 2:  Cost = 0.3556489944458008 - Validation Accuracy = 0.6191999912261963\n",
      "Epoch 30, CIFAR-10 Batch 3:  Cost = 0.3372431695461273 - Validation Accuracy = 0.6096000075340271\n",
      "Epoch 30, CIFAR-10 Batch 4:  Cost = 0.3045448660850525 - Validation Accuracy = 0.6115999817848206\n",
      "Epoch 30, CIFAR-10 Batch 5:  Cost = 0.308946818113327 - Validation Accuracy = 0.593999981880188\n",
      "Epoch 31, CIFAR-10 Batch 1:  Cost = 0.28102022409439087 - Validation Accuracy = 0.6241999864578247\n",
      "Epoch 31, CIFAR-10 Batch 2:  Cost = 0.3177835941314697 - Validation Accuracy = 0.6123999953269958\n",
      "Epoch 31, CIFAR-10 Batch 3:  Cost = 0.26432880759239197 - Validation Accuracy = 0.6218000054359436\n",
      "Epoch 31, CIFAR-10 Batch 4:  Cost = 0.28761056065559387 - Validation Accuracy = 0.6039999723434448\n",
      "Epoch 31, CIFAR-10 Batch 5:  Cost = 0.2789175510406494 - Validation Accuracy = 0.5953999757766724\n",
      "Epoch 32, CIFAR-10 Batch 1:  Cost = 0.34967413544654846 - Validation Accuracy = 0.5852000117301941\n",
      "Epoch 32, CIFAR-10 Batch 2:  Cost = 0.3025404214859009 - Validation Accuracy = 0.6164000034332275\n",
      "Epoch 32, CIFAR-10 Batch 3:  Cost = 0.2921355068683624 - Validation Accuracy = 0.6118000149726868\n",
      "Epoch 32, CIFAR-10 Batch 4:  Cost = 0.26314637064933777 - Validation Accuracy = 0.6093999743461609\n",
      "Epoch 32, CIFAR-10 Batch 5:  Cost = 0.23159544169902802 - Validation Accuracy = 0.6069999933242798\n",
      "Epoch 33, CIFAR-10 Batch 1:  Cost = 0.3573877811431885 - Validation Accuracy = 0.5813999772071838\n",
      "Epoch 33, CIFAR-10 Batch 2:  Cost = 0.34387120604515076 - Validation Accuracy = 0.6057999730110168\n",
      "Epoch 33, CIFAR-10 Batch 3:  Cost = 0.29020246863365173 - Validation Accuracy = 0.6144000291824341\n",
      "Epoch 33, CIFAR-10 Batch 4:  Cost = 0.21696755290031433 - Validation Accuracy = 0.6200000047683716\n",
      "Epoch 33, CIFAR-10 Batch 5:  Cost = 0.23080548644065857 - Validation Accuracy = 0.6032000184059143\n",
      "Epoch 34, CIFAR-10 Batch 1:  Cost = 0.25881868600845337 - Validation Accuracy = 0.6133999824523926\n",
      "Epoch 34, CIFAR-10 Batch 2:  Cost = 0.3193056881427765 - Validation Accuracy = 0.6037999987602234\n",
      "Epoch 34, CIFAR-10 Batch 3:  Cost = 0.263919472694397 - Validation Accuracy = 0.6204000115394592\n",
      "Epoch 34, CIFAR-10 Batch 4:  Cost = 0.23673179745674133 - Validation Accuracy = 0.6060000061988831\n",
      "Epoch 34, CIFAR-10 Batch 5:  Cost = 0.2230532169342041 - Validation Accuracy = 0.605400025844574\n",
      "Epoch 35, CIFAR-10 Batch 1:  Cost = 0.22532185912132263 - Validation Accuracy = 0.6255999803543091\n",
      "Epoch 35, CIFAR-10 Batch 2:  Cost = 0.2507776916027069 - Validation Accuracy = 0.6226000189781189\n",
      "Epoch 35, CIFAR-10 Batch 3:  Cost = 0.2638636827468872 - Validation Accuracy = 0.6137999892234802\n",
      "Epoch 35, CIFAR-10 Batch 4:  Cost = 0.24588054418563843 - Validation Accuracy = 0.5906000137329102\n",
      "Epoch 35, CIFAR-10 Batch 5:  Cost = 0.2270648181438446 - Validation Accuracy = 0.6033999919891357\n",
      "Epoch 36, CIFAR-10 Batch 1:  Cost = 0.2648412883281708 - Validation Accuracy = 0.6144000291824341\n",
      "Epoch 36, CIFAR-10 Batch 2:  Cost = 0.275585412979126 - Validation Accuracy = 0.6133999824523926\n",
      "Epoch 36, CIFAR-10 Batch 3:  Cost = 0.2696632146835327 - Validation Accuracy = 0.6074000000953674\n",
      "Epoch 36, CIFAR-10 Batch 4:  Cost = 0.2386687994003296 - Validation Accuracy = 0.5947999954223633\n",
      "Epoch 36, CIFAR-10 Batch 5:  Cost = 0.199548602104187 - Validation Accuracy = 0.6001999974250793\n",
      "Epoch 37, CIFAR-10 Batch 1:  Cost = 0.2642141580581665 - Validation Accuracy = 0.6021999716758728\n",
      "Epoch 37, CIFAR-10 Batch 2:  Cost = 0.2491115927696228 - Validation Accuracy = 0.6177999973297119\n",
      "Epoch 37, CIFAR-10 Batch 3:  Cost = 0.2342914342880249 - Validation Accuracy = 0.6154000163078308\n",
      "Epoch 37, CIFAR-10 Batch 4:  Cost = 0.17556880414485931 - Validation Accuracy = 0.6128000020980835\n",
      "Epoch 37, CIFAR-10 Batch 5:  Cost = 0.16631732881069183 - Validation Accuracy = 0.6132000088691711\n",
      "Epoch 38, CIFAR-10 Batch 1:  Cost = 0.20390495657920837 - Validation Accuracy = 0.621399998664856\n",
      "Epoch 38, CIFAR-10 Batch 2:  Cost = 0.2719620168209076 - Validation Accuracy = 0.6083999872207642\n",
      "Epoch 38, CIFAR-10 Batch 3:  Cost = 0.2273705154657364 - Validation Accuracy = 0.6141999959945679\n",
      "Epoch 38, CIFAR-10 Batch 4:  Cost = 0.1645674705505371 - Validation Accuracy = 0.6187999844551086\n",
      "Epoch 38, CIFAR-10 Batch 5:  Cost = 0.1687987893819809 - Validation Accuracy = 0.6050000190734863\n",
      "Epoch 39, CIFAR-10 Batch 1:  Cost = 0.1829790621995926 - Validation Accuracy = 0.623199999332428\n",
      "Epoch 39, CIFAR-10 Batch 2:  Cost = 0.269814670085907 - Validation Accuracy = 0.6018000245094299\n",
      "Epoch 39, CIFAR-10 Batch 3:  Cost = 0.20817314088344574 - Validation Accuracy = 0.6111999750137329\n",
      "Epoch 39, CIFAR-10 Batch 4:  Cost = 0.18208234012126923 - Validation Accuracy = 0.6155999898910522\n",
      "Epoch 39, CIFAR-10 Batch 5:  Cost = 0.15410202741622925 - Validation Accuracy = 0.6111999750137329\n",
      "Epoch 40, CIFAR-10 Batch 1:  Cost = 0.1923244595527649 - Validation Accuracy = 0.6200000047683716\n",
      "Epoch 40, CIFAR-10 Batch 2:  Cost = 0.22331084311008453 - Validation Accuracy = 0.6101999878883362\n",
      "Epoch 40, CIFAR-10 Batch 3:  Cost = 0.18969273567199707 - Validation Accuracy = 0.6111999750137329\n",
      "Epoch 40, CIFAR-10 Batch 4:  Cost = 0.1751805692911148 - Validation Accuracy = 0.6047999858856201\n",
      "Epoch 40, CIFAR-10 Batch 5:  Cost = 0.14890813827514648 - Validation Accuracy = 0.6118000149726868\n",
      "Epoch 41, CIFAR-10 Batch 1:  Cost = 0.16869176924228668 - Validation Accuracy = 0.6226000189781189\n",
      "Epoch 41, CIFAR-10 Batch 2:  Cost = 0.16394515335559845 - Validation Accuracy = 0.6269999742507935\n",
      "Epoch 41, CIFAR-10 Batch 3:  Cost = 0.14997361600399017 - Validation Accuracy = 0.6233999729156494\n",
      "Epoch 41, CIFAR-10 Batch 4:  Cost = 0.1404130458831787 - Validation Accuracy = 0.6172000169754028\n",
      "Epoch 41, CIFAR-10 Batch 5:  Cost = 0.14346608519554138 - Validation Accuracy = 0.6115999817848206\n",
      "Epoch 42, CIFAR-10 Batch 1:  Cost = 0.17181041836738586 - Validation Accuracy = 0.6215999722480774\n",
      "Epoch 42, CIFAR-10 Batch 2:  Cost = 0.17429859936237335 - Validation Accuracy = 0.6258000135421753\n",
      "Epoch 42, CIFAR-10 Batch 3:  Cost = 0.1537850797176361 - Validation Accuracy = 0.628000020980835\n",
      "Epoch 42, CIFAR-10 Batch 4:  Cost = 0.132758229970932 - Validation Accuracy = 0.6159999966621399\n",
      "Epoch 42, CIFAR-10 Batch 5:  Cost = 0.14399251341819763 - Validation Accuracy = 0.6039999723434448\n",
      "Epoch 43, CIFAR-10 Batch 1:  Cost = 0.18732807040214539 - Validation Accuracy = 0.6132000088691711\n",
      "Epoch 43, CIFAR-10 Batch 2:  Cost = 0.17802974581718445 - Validation Accuracy = 0.6179999709129333\n",
      "Epoch 43, CIFAR-10 Batch 3:  Cost = 0.15056200325489044 - Validation Accuracy = 0.623199999332428\n",
      "Epoch 43, CIFAR-10 Batch 4:  Cost = 0.12266840785741806 - Validation Accuracy = 0.6176000237464905\n",
      "Epoch 43, CIFAR-10 Batch 5:  Cost = 0.11882071942090988 - Validation Accuracy = 0.6151999831199646\n",
      "Epoch 44, CIFAR-10 Batch 1:  Cost = 0.15765874087810516 - Validation Accuracy = 0.6248000264167786\n",
      "Epoch 44, CIFAR-10 Batch 2:  Cost = 0.1391216516494751 - Validation Accuracy = 0.6226000189781189\n",
      "Epoch 44, CIFAR-10 Batch 3:  Cost = 0.1566832959651947 - Validation Accuracy = 0.6065999865531921\n",
      "Epoch 44, CIFAR-10 Batch 4:  Cost = 0.11629278212785721 - Validation Accuracy = 0.6137999892234802\n",
      "Epoch 44, CIFAR-10 Batch 5:  Cost = 0.10795018821954727 - Validation Accuracy = 0.6262000203132629\n",
      "Epoch 45, CIFAR-10 Batch 1:  Cost = 0.15913453698158264 - Validation Accuracy = 0.6111999750137329\n",
      "Epoch 45, CIFAR-10 Batch 2:  Cost = 0.14417541027069092 - Validation Accuracy = 0.6150000095367432\n",
      "Epoch 45, CIFAR-10 Batch 3:  Cost = 0.15832115709781647 - Validation Accuracy = 0.6065999865531921\n",
      "Epoch 45, CIFAR-10 Batch 4:  Cost = 0.12841373682022095 - Validation Accuracy = 0.6028000116348267\n",
      "Epoch 45, CIFAR-10 Batch 5:  Cost = 0.10135982930660248 - Validation Accuracy = 0.628000020980835\n",
      "Epoch 46, CIFAR-10 Batch 1:  Cost = 0.15175768733024597 - Validation Accuracy = 0.6092000007629395\n",
      "Epoch 46, CIFAR-10 Batch 2:  Cost = 0.16285733878612518 - Validation Accuracy = 0.6025999784469604\n",
      "Epoch 46, CIFAR-10 Batch 3:  Cost = 0.16065874695777893 - Validation Accuracy = 0.6132000088691711\n",
      "Epoch 46, CIFAR-10 Batch 4:  Cost = 0.13044039905071259 - Validation Accuracy = 0.6074000000953674\n",
      "Epoch 46, CIFAR-10 Batch 5:  Cost = 0.11687186360359192 - Validation Accuracy = 0.6204000115394592\n",
      "Epoch 47, CIFAR-10 Batch 1:  Cost = 0.12526467442512512 - Validation Accuracy = 0.6191999912261963\n",
      "Epoch 47, CIFAR-10 Batch 2:  Cost = 0.11859318614006042 - Validation Accuracy = 0.6140000224113464\n",
      "Epoch 47, CIFAR-10 Batch 3:  Cost = 0.1671924591064453 - Validation Accuracy = 0.614799976348877\n",
      "Epoch 47, CIFAR-10 Batch 4:  Cost = 0.10249931365251541 - Validation Accuracy = 0.6233999729156494\n",
      "Epoch 47, CIFAR-10 Batch 5:  Cost = 0.10887083411216736 - Validation Accuracy = 0.623199999332428\n",
      "Epoch 48, CIFAR-10 Batch 1:  Cost = 0.138715460896492 - Validation Accuracy = 0.609000027179718\n",
      "Epoch 48, CIFAR-10 Batch 2:  Cost = 0.16227206587791443 - Validation Accuracy = 0.5884000062942505\n",
      "Epoch 48, CIFAR-10 Batch 3:  Cost = 0.12228486686944962 - Validation Accuracy = 0.6176000237464905\n",
      "Epoch 48, CIFAR-10 Batch 4:  Cost = 0.13099606335163116 - Validation Accuracy = 0.6150000095367432\n",
      "Epoch 48, CIFAR-10 Batch 5:  Cost = 0.08927120268344879 - Validation Accuracy = 0.6187999844551086\n",
      "Epoch 49, CIFAR-10 Batch 1:  Cost = 0.10488693416118622 - Validation Accuracy = 0.6204000115394592\n",
      "Epoch 49, CIFAR-10 Batch 2:  Cost = 0.11221759021282196 - Validation Accuracy = 0.6010000109672546\n",
      "Epoch 49, CIFAR-10 Batch 3:  Cost = 0.16639123857021332 - Validation Accuracy = 0.6104000210762024\n",
      "Epoch 49, CIFAR-10 Batch 4:  Cost = 0.1469249278306961 - Validation Accuracy = 0.59579998254776\n",
      "Epoch 49, CIFAR-10 Batch 5:  Cost = 0.1092524603009224 - Validation Accuracy = 0.6065999865531921\n",
      "Epoch 50, CIFAR-10 Batch 1:  Cost = 0.10374365746974945 - Validation Accuracy = 0.6195999979972839\n",
      "Epoch 50, CIFAR-10 Batch 2:  Cost = 0.09285895526409149 - Validation Accuracy = 0.6197999715805054\n",
      "Epoch 50, CIFAR-10 Batch 3:  Cost = 0.10831546038389206 - Validation Accuracy = 0.6236000061035156\n",
      "Epoch 50, CIFAR-10 Batch 4:  Cost = 0.10013895481824875 - Validation Accuracy = 0.6100000143051147\n",
      "Epoch 50, CIFAR-10 Batch 5:  Cost = 0.08480848371982574 - Validation Accuracy = 0.6119999885559082\n"
     ]
    }
   ],
   "source": [
    "\"\"\"\n",
    "DON'T MODIFY ANYTHING IN THIS CELL\n",
    "\"\"\"\n",
    "save_model_path = './image_classification'\n",
    "\n",
    "print('Training...')\n",
    "with tf.Session() as sess:\n",
    "    # Initializing the variables\n",
    "    sess.run(tf.global_variables_initializer())\n",
    "    \n",
    "    # Training cycle\n",
    "    for epoch in range(epochs):\n",
    "        # Loop over all batches\n",
    "        n_batches = 5\n",
    "        for batch_i in range(1, n_batches + 1):\n",
    "            for batch_features, batch_labels in helper.load_preprocess_training_batch(batch_i, batch_size):\n",
    "                train_neural_network(sess, optimizer, keep_probability, batch_features, batch_labels)\n",
    "            print('Epoch {:>2}, CIFAR-10 Batch {}:  '.format(epoch + 1, batch_i), end='')\n",
    "            print_stats(sess, batch_features, batch_labels, cost, accuracy)\n",
    "            \n",
    "    # Save Model\n",
    "    saver = tf.train.Saver()\n",
    "    save_path = saver.save(sess, save_model_path)"
   ]
  },
  {
   "cell_type": "markdown",
   "metadata": {},
   "source": [
    "# 检查点\n",
    "\n",
    "模型已保存到本地。\n",
    "\n",
    "## 测试模型\n",
    "\n",
    "利用测试数据集测试你的模型。这将是最终的准确率。你的准确率应该高于 50%。如果没达到，请继续调整模型结构和参数。"
   ]
  },
  {
   "cell_type": "code",
   "execution_count": 23,
   "metadata": {
    "collapsed": false
   },
   "outputs": [
    {
     "name": "stdout",
     "output_type": "stream",
     "text": [
      "INFO:tensorflow:Restoring parameters from ./image_classification\n",
      "Testing Accuracy: 0.6153001427650452\n",
      "\n"
     ]
    },
    {
     "data": {
      "image/png": "[encoded data removed]",
      "text/plain": [
       "<matplotlib.figure.Figure at 0x2f9754e0>"
      ]
     },
     "metadata": {
      "image/png": {
       "height": 319,
       "width": 355
      }
     },
     "output_type": "display_data"
    }
   ],
   "source": [
    "\"\"\"\n",
    "DON'T MODIFY ANYTHING IN THIS CELL\n",
    "\"\"\"\n",
    "%matplotlib inline\n",
    "%config InlineBackend.figure_format = 'retina'\n",
    "\n",
    "import tensorflow as tf\n",
    "import pickle\n",
    "import helper\n",
    "import random\n",
    "\n",
    "# Set batch size if not already set\n",
    "try:\n",
    "    if batch_size:\n",
    "        pass\n",
    "except NameError:\n",
    "    batch_size = 64\n",
    "\n",
    "save_model_path = './image_classification'\n",
    "n_samples = 4\n",
    "top_n_predictions = 3\n",
    "\n",
    "def test_model():\n",
    "    \"\"\"\n",
    "    Test the saved model against the test dataset\n",
    "    \"\"\"\n",
    "\n",
    "    test_features, test_labels = pickle.load(open('preprocess_test.p', mode='rb'))\n",
    "    loaded_graph = tf.Graph()\n",
    "\n",
    "    with tf.Session(graph=loaded_graph) as sess:\n",
    "        # Load model\n",
    "        loader = tf.train.import_meta_graph(save_model_path + '.meta')\n",
    "        loader.restore(sess, save_model_path)\n",
    "\n",
    "        # Get Tensors from loaded model\n",
    "        loaded_x = loaded_graph.get_tensor_by_name('x:0')\n",
    "        loaded_y = loaded_graph.get_tensor_by_name('y:0')\n",
    "        loaded_keep_prob = loaded_graph.get_tensor_by_name('keep_prob:0')\n",
    "        loaded_logits = loaded_graph.get_tensor_by_name('logits:0')\n",
    "        loaded_acc = loaded_graph.get_tensor_by_name('accuracy:0')\n",
    "        \n",
    "        # Get accuracy in batches for memory limitations\n",
    "        test_batch_acc_total = 0\n",
    "        test_batch_count = 0\n",
    "        \n",
    "        for test_feature_batch, test_label_batch in helper.batch_features_labels(test_features, test_labels, batch_size):\n",
    "            test_batch_acc_total += sess.run(\n",
    "                loaded_acc,\n",
    "                feed_dict={loaded_x: test_feature_batch, loaded_y: test_label_batch, loaded_keep_prob: 1.0})\n",
    "            test_batch_count += 1\n",
    "\n",
    "        print('Testing Accuracy: {}\\n'.format(test_batch_acc_total/test_batch_count))\n",
    "\n",
    "        # Print Random Samples\n",
    "        random_test_features, random_test_labels = tuple(zip(*random.sample(list(zip(test_features, test_labels)), n_samples)))\n",
    "        random_test_predictions = sess.run(\n",
    "            tf.nn.top_k(tf.nn.softmax(loaded_logits), top_n_predictions),\n",
    "            feed_dict={loaded_x: random_test_features, loaded_y: random_test_labels, loaded_keep_prob: 1.0})\n",
    "        helper.display_image_predictions(random_test_features, random_test_labels, random_test_predictions)\n",
    "\n",
    "\n",
    "test_model()"
   ]
  },
  {
   "cell_type": "markdown",
   "metadata": {},
   "source": [
    "## 为何准确率只有50-80%？\n",
    "\n",
    "你可能想问，为何准确率不能更高了？首先，对于简单的 CNN 网络来说，50% 已经不低了。纯粹猜测的准确率为10%。但是，你可能注意到有人的准确率[远远超过 80%](http://rodrigob.github.io/are_we_there_yet/build/classification_datasets_results.html#43494641522d3130)。这是因为我们还没有介绍所有的神经网络知识。我们还需要掌握一些其他技巧。\n",
    "\n",
    "## 提交项目\n",
    "\n",
    "提交项目时，确保先运行所有单元，然后再保存记事本。将 notebook 文件另存为“dlnd_image_classification.ipynb”，再在目录 \"File\" -> \"Download as\" 另存为 HTML 格式。请在提交的项目中包含 “helper.py” 和 “problem_unittests.py” 文件。\n"
   ]
  }
 ],
 "metadata": {
  "anaconda-cloud": {},
  "kernelspec": {
   "display_name": "Python [tensorflow_cpu]",
   "language": "python",
   "name": "Python [tensorflow_cpu]"
  },
  "language_info": {
   "codemirror_mode": {
    "name": "ipython",
    "version": 3
   },
   "file_extension": ".py",
   "mimetype": "text/x-python",
   "name": "python",
   "nbconvert_exporter": "python",
   "pygments_lexer": "ipython3",
   "version": "3.5.4"
  }
 },
 "nbformat": 4,
 "nbformat_minor": 0
}
